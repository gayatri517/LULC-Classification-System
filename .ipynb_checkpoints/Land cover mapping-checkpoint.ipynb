{
 "cells": [
  {
   "cell_type": "markdown",
   "metadata": {},
   "source": [
    "# Land cover mapping"
   ]
  },
  {
   "cell_type": "code",
   "execution_count": 1,
   "metadata": {},
   "outputs": [],
   "source": [
    "import random\n",
    "import numpy as np\n",
    "import matplotlib.pyplot as plt\n",
    "\n",
    "from tensorflow.python.keras import Model\n",
    "from tensorflow.python.keras.layers import Input, Conv2D, MaxPooling2D, Conv2DTranspose, Concatenate, Dropout"
   ]
  },
  {
   "cell_type": "markdown",
   "metadata": {},
   "source": [
    "## 1) U-Net for Land Cover Mapping\n",
    "\n",
    "Input data are RGB satellite images. And output are images of land cover type. There are 4 land cover types as below,\n",
    "    - Pixel value 0: background class\n",
    "    - Pixel value 1: building class\n",
    "    - Pixel value 2: vegetation/forest class\n",
    "    - Pixel value 3: water class"
   ]
  },
  {
   "cell_type": "code",
   "execution_count": 2,
   "metadata": {},
   "outputs": [
    {
     "name": "stdout",
     "output_type": "stream",
     "text": [
      "x_train shape (70, 128, 128, 3)\n",
      "y_train shape (70, 128, 128, 1)\n",
      "y_test shape (30, 128, 128, 3)\n",
      "y_test shape (30, 128, 128, 1)\n"
     ]
    }
   ],
   "source": [
    "'''loading data'''\n",
    "\n",
    "# data is already randomized and split in to training / test sets. So we can go ahead and use them as it is.\n",
    "x_train = np.load('./data/x_train.npy').astype('float32')\n",
    "y_train= np.load('./data/y_train.npy').astype('float32')\n",
    "x_test = np.load('./data/x_test.npy').astype('float32')\n",
    "y_test = np.load('./data/y_test.npy').astype('float32') \n",
    "\n",
    "print(\"x_train shape\", x_train.shape)\n",
    "print(\"y_train shape\", y_train.shape)\n",
    "print(\"y_test shape\", x_test.shape)\n",
    "print(\"y_test shape\", y_test.shape)"
   ]
  },
  {
   "cell_type": "code",
   "execution_count": 3,
   "metadata": {},
   "outputs": [
    {
     "data": {
      "image/png": "[encoded data removed]",
      "text/plain": [
       "<Figure size 432x288 with 2 Axes>"
      ]
     },
     "metadata": {
      "needs_background": "light"
     },
     "output_type": "display_data"
    }
   ],
   "source": [
    "# Let's plot a sample input RGB image and output image with land cover\n",
    "image_number = random.randint(0, x_test.shape[0])\n",
    "plt.subplot(121)\n",
    "plt.imshow(x_test[image_number,:,:,:].astype('uint8'))\n",
    "\n",
    "plt.subplot(122)\n",
    "plt.imshow(y_test[image_number,:,:,0].astype('uint8'))\n",
    "plt.show()"
   ]
  },
  {
   "cell_type": "markdown",
   "metadata": {},
   "source": [
    "Since land cover data include classes, let's perform one-hot encoding first."
   ]
  },
  {
   "cell_type": "code",
   "execution_count": 4,
   "metadata": {},
   "outputs": [],
   "source": [
    "'''one-hot encoding'''\n",
    "\n",
    "from tensorflow.keras.utils import to_categorical\n",
    "\n",
    "y_train_1hot = to_categorical(y_train)\n",
    "y_test_1hot = to_categorical(y_test)"
   ]
  },
  {
   "cell_type": "markdown",
   "metadata": {},
   "source": [
    "Now, let's define, fit, predict and validate U-Net model for land cover mapping. Here in this example also, we will use same U-Net architecture as in our last example (building mapping). Only different here use of __*softmax*__ activation in the last layer and use of __*cross-entropy*__ loss, because this is a multi-class classification problem."
   ]
  },
  {
   "cell_type": "code",
   "execution_count": 5,
   "metadata": {},
   "outputs": [
    {
     "name": "stdout",
     "output_type": "stream",
     "text": [
      "Model: \"model\"\n",
      "__________________________________________________________________________________________________\n",
      "Layer (type)                    Output Shape         Param #     Connected to                     \n",
      "==================================================================================================\n",
      "input_1 (InputLayer)            [(None, 128, 128, 3) 0                                            \n",
      "__________________________________________________________________________________________________\n",
      "conv2d (Conv2D)                 (None, 128, 128, 32) 896         input_1[0][0]                    \n",
      "__________________________________________________________________________________________________\n",
      "dropout (Dropout)               (None, 128, 128, 32) 0           conv2d[0][0]                     \n",
      "__________________________________________________________________________________________________\n",
      "conv2d_1 (Conv2D)               (None, 128, 128, 32) 9248        dropout[0][0]                    \n",
      "__________________________________________________________________________________________________\n",
      "max_pooling2d (MaxPooling2D)    (None, 64, 64, 32)   0           conv2d_1[0][0]                   \n",
      "__________________________________________________________________________________________________\n",
      "conv2d_2 (Conv2D)               (None, 64, 64, 32)   9248        max_pooling2d[0][0]              \n",
      "__________________________________________________________________________________________________\n",
      "dropout_1 (Dropout)             (None, 64, 64, 32)   0           conv2d_2[0][0]                   \n",
      "__________________________________________________________________________________________________\n",
      "conv2d_3 (Conv2D)               (None, 64, 64, 32)   9248        dropout_1[0][0]                  \n",
      "__________________________________________________________________________________________________\n",
      "max_pooling2d_1 (MaxPooling2D)  (None, 32, 32, 32)   0           conv2d_3[0][0]                   \n",
      "__________________________________________________________________________________________________\n",
      "conv2d_4 (Conv2D)               (None, 32, 32, 64)   18496       max_pooling2d_1[0][0]            \n",
      "__________________________________________________________________________________________________\n",
      "dropout_2 (Dropout)             (None, 32, 32, 64)   0           conv2d_4[0][0]                   \n",
      "__________________________________________________________________________________________________\n",
      "conv2d_5 (Conv2D)               (None, 32, 32, 64)   36928       dropout_2[0][0]                  \n",
      "__________________________________________________________________________________________________\n",
      "max_pooling2d_2 (MaxPooling2D)  (None, 16, 16, 64)   0           conv2d_5[0][0]                   \n",
      "__________________________________________________________________________________________________\n",
      "conv2d_6 (Conv2D)               (None, 16, 16, 64)   36928       max_pooling2d_2[0][0]            \n",
      "__________________________________________________________________________________________________\n",
      "dropout_3 (Dropout)             (None, 16, 16, 64)   0           conv2d_6[0][0]                   \n",
      "__________________________________________________________________________________________________\n",
      "conv2d_7 (Conv2D)               (None, 16, 16, 64)   36928       dropout_3[0][0]                  \n",
      "__________________________________________________________________________________________________\n",
      "conv2d_transpose (Conv2DTranspo (None, 16, 16, 64)   36928       conv2d_7[0][0]                   \n",
      "__________________________________________________________________________________________________\n",
      "dropout_4 (Dropout)             (None, 16, 16, 64)   0           conv2d_transpose[0][0]           \n",
      "__________________________________________________________________________________________________\n",
      "conv2d_transpose_1 (Conv2DTrans (None, 32, 32, 64)   36928       dropout_4[0][0]                  \n",
      "__________________________________________________________________________________________________\n",
      "concatenate (Concatenate)       (None, 32, 32, 128)  0           conv2d_transpose_1[0][0]         \n",
      "                                                                 conv2d_5[0][0]                   \n",
      "__________________________________________________________________________________________________\n",
      "conv2d_transpose_2 (Conv2DTrans (None, 32, 32, 64)   73792       concatenate[0][0]                \n",
      "__________________________________________________________________________________________________\n",
      "dropout_5 (Dropout)             (None, 32, 32, 64)   0           conv2d_transpose_2[0][0]         \n",
      "__________________________________________________________________________________________________\n",
      "conv2d_transpose_3 (Conv2DTrans (None, 64, 64, 64)   36928       dropout_5[0][0]                  \n",
      "__________________________________________________________________________________________________\n",
      "concatenate_1 (Concatenate)     (None, 64, 64, 96)   0           conv2d_transpose_3[0][0]         \n",
      "                                                                 conv2d_3[0][0]                   \n",
      "__________________________________________________________________________________________________\n",
      "conv2d_transpose_4 (Conv2DTrans (None, 64, 64, 32)   27680       concatenate_1[0][0]              \n",
      "__________________________________________________________________________________________________\n",
      "dropout_6 (Dropout)             (None, 64, 64, 32)   0           conv2d_transpose_4[0][0]         \n",
      "__________________________________________________________________________________________________\n",
      "conv2d_transpose_5 (Conv2DTrans (None, 128, 128, 32) 9248        dropout_6[0][0]                  \n",
      "__________________________________________________________________________________________________\n",
      "concatenate_2 (Concatenate)     (None, 128, 128, 64) 0           conv2d_transpose_5[0][0]         \n",
      "                                                                 conv2d_1[0][0]                   \n",
      "__________________________________________________________________________________________________\n",
      "conv2d_transpose_6 (Conv2DTrans (None, 128, 128, 32) 18464       concatenate_2[0][0]              \n",
      "__________________________________________________________________________________________________\n",
      "dropout_7 (Dropout)             (None, 128, 128, 32) 0           conv2d_transpose_6[0][0]         \n",
      "__________________________________________________________________________________________________\n",
      "conv2d_transpose_7 (Conv2DTrans (None, 128, 128, 32) 9248        dropout_7[0][0]                  \n",
      "__________________________________________________________________________________________________\n",
      "conv2d_8 (Conv2D)               (None, 128, 128, 32) 1056        conv2d_transpose_7[0][0]         \n",
      "__________________________________________________________________________________________________\n",
      "conv2d_9 (Conv2D)               (None, 128, 128, 32) 1056        conv2d_8[0][0]                   \n",
      "__________________________________________________________________________________________________\n",
      "conv2d_10 (Conv2D)              (None, 128, 128, 4)  132         conv2d_9[0][0]                   \n",
      "==================================================================================================\n",
      "Total params: 409,380\n",
      "Trainable params: 409,380\n",
      "Non-trainable params: 0\n",
      "__________________________________________________________________________________________________\n"
     ]
    }
   ],
   "source": [
    "x_in = Input(shape=(128, 128, 3))\n",
    "\n",
    "'''Encoder'''\n",
    "x_temp = Conv2D(32, (3, 3), activation='relu', padding='same')(x_in)\n",
    "x_temp = Dropout(0.25)(x_temp)\n",
    "x_skip1 = Conv2D(32, (3, 3), activation='relu', padding='same')(x_temp)\n",
    "x_temp = MaxPooling2D((2,2))(x_skip1)\n",
    "x_temp = Conv2D(32, (3, 3), activation='relu', padding='same')(x_temp)\n",
    "x_temp = Dropout(0.25)(x_temp)\n",
    "x_skip2 = Conv2D(32, (3, 3), activation='relu', padding='same')(x_temp)\n",
    "x_temp = MaxPooling2D((2,2))(x_skip2)\n",
    "x_temp = Conv2D(64, (3, 3), activation='relu', padding='same')(x_temp)\n",
    "x_temp = Dropout(0.25)(x_temp)\n",
    "x_skip3 = Conv2D(64, (3, 3), activation='relu', padding='same')(x_temp)\n",
    "x_temp = MaxPooling2D((2,2))(x_skip3)\n",
    "x_temp = Conv2D(64, (3, 3), activation='relu', padding='same')(x_temp)\n",
    "x_temp = Dropout(0.5)(x_temp)\n",
    "x_temp = Conv2D(64, (3, 3), activation='relu', padding='same')(x_temp)\n",
    "\n",
    "'''Decoder'''\n",
    "x_temp = Conv2DTranspose(64, (3, 3), activation='relu',  padding='same')(x_temp)\n",
    "x_temp = Dropout(0.5)(x_temp)\n",
    "x_temp = Conv2DTranspose(64, (3, 3), strides=(2, 2), activation='relu',  padding='same')(x_temp)\n",
    "x_temp = Concatenate()([x_temp, x_skip3])\n",
    "x_temp = Conv2DTranspose(64, (3, 3), activation='relu',  padding='same')(x_temp)\n",
    "x_temp = Dropout(0.5)(x_temp)\n",
    "x_temp = Conv2DTranspose(64, (3, 3), strides=(2, 2), activation='relu',  padding='same')(x_temp)\n",
    "x_temp = Concatenate()([x_temp, x_skip2])\n",
    "x_temp = Conv2DTranspose(32, (3, 3), activation='relu',  padding='same')(x_temp)\n",
    "x_temp = Dropout(0.5)(x_temp)\n",
    "x_temp = Conv2DTranspose(32, (3, 3), strides=(2, 2), activation='relu',  padding='same')(x_temp)\n",
    "x_temp = Concatenate()([x_temp, x_skip1])\n",
    "x_temp = Conv2DTranspose(32, (3, 3), activation='relu',  padding='same')(x_temp)\n",
    "x_temp = Dropout(0.5)(x_temp)\n",
    "x_temp = Conv2DTranspose(32, (3, 3), activation='relu',  padding='same')(x_temp)\n",
    "\n",
    "'''Use 1 by 1 Convolution to get desired output bands'''\n",
    "x_temp = Conv2D(32, (1, 1), activation='relu', padding='same')(x_temp)\n",
    "x_temp = Conv2D(32, (1, 1), activation='relu', padding='same')(x_temp)\n",
    "x_out = Conv2D(4, (1, 1), activation='softmax', padding='same')(x_temp)\n",
    "\n",
    "model = Model(inputs=x_in, outputs=x_out)\n",
    "\n",
    "model.compile(loss='categorical_crossentropy', optimizer='adam')\n",
    "\n",
    "model.summary()"
   ]
  },
  {
   "cell_type": "code",
   "execution_count": null,
   "metadata": {
    "scrolled": true
   },
   "outputs": [],
   "source": [
    "history = model.fit(x_train, y_train_1hot, validation_data=(x_test, y_test_1hot), epochs=250, batch_size=8, verbose=0)"
   ]
  },
  {
   "cell_type": "code",
   "execution_count": null,
   "metadata": {},
   "outputs": [],
   "source": [
    "plt.plot(history.history['loss'])\n",
    "plt.plot(history.history['val_loss'])\n",
    "plt.title('Model Loss')\n",
    "plt.ylabel('Loss')\n",
    "plt.xlabel('Epoch')\n",
    "plt.legend(['Train', 'Test'], loc='upper left')\n",
    "plt.show()"
   ]
  },
  {
   "cell_type": "code",
   "execution_count": null,
   "metadata": {},
   "outputs": [],
   "source": [
    "'''Prediction over the test dataset'''\n",
    "pred_test = model.predict(x_test)\n",
    "\n",
    "pred_test = np.argmax(pred_test, axis=-1)\n",
    "print(pred_test.shape)\n",
    "\n",
    "#let's compare sample predicted and actual land cover image with input RGB image\n",
    "plt.subplot(131)\n",
    "plt.imshow(pred_test[12, :, :])\n",
    "plt.subplot(132)\n",
    "plt.imshow(y_test[12, :, :, 0])\n",
    "plt.subplot(133)\n",
    "plt.imshow(x_test[12,:,:,:].astype('uint8'))\n",
    "plt.show()"
   ]
  },
  {
   "cell_type": "markdown",
   "metadata": {},
   "source": [
    "This is not an operational model with high accuracy. But with more layers and with more data, we can develop this architecture in to an operational model with high accuracy."
   ]
  }
 ],
 "metadata": {
  "kernelspec": {
   "display_name": "Python 3 (ipykernel)",
   "language": "python",
   "name": "python3"
  },
  "language_info": {
   "codemirror_mode": {
    "name": "ipython",
    "version": 3
   },
   "file_extension": ".py",
   "mimetype": "text/x-python",
   "name": "python",
   "nbconvert_exporter": "python",
   "pygments_lexer": "ipython3",
   "version": "3.10.0"
  }
 },
 "nbformat": 4,
 "nbformat_minor": 2
}
